{
  "nbformat": 4,
  "nbformat_minor": 0,
  "metadata": {
    "colab": {
      "provenance": [],
      "gpuType": "T4"
    },
    "kernelspec": {
      "name": "python3",
      "display_name": "Python 3"
    },
    "language_info": {
      "name": "python"
    },
    "accelerator": "GPU"
  },
  "cells": [
    {
      "cell_type": "code",
      "execution_count": null,
      "metadata": {
        "id": "kFGj6MoryPw2"
      },
      "outputs": [],
      "source": [
        "# Step 1: Mount Google Drive to access our files\n",
        "from google.colab import drive\n",
        "drive.mount('/content/drive')"
      ]
    },
    {
      "cell_type": "code",
      "source": [
        "# Step 2: Install the libraries we are going to use\n",
        "# OpenCV is for image and video processing.\n",
        "# Ultralytics gives us access to the YOLO model to detect players.\n",
        "!pip install opencv-python ultralytics"
      ],
      "metadata": {
        "id": "KtNIdpNw0dzv"
      },
      "execution_count": null,
      "outputs": []
    },
    {
      "cell_type": "code",
      "source": [
        "# Step 3: Load and test our video\n",
        "import cv2\n",
        "from google.colab.patches import cv2_imshow # We use this in Colab instead of cv2.imshow\n",
        "\n",
        "# IMPORTANT: Paste here the path to your video that you copied in the previous step.\n",
        "# Make sure the path is inside quotation marks.\n",
        "video_path = \"/content/drive/My Drive/Proyecto_Futbol_IA/mi_partido.mp4\"\n",
        "\n",
        "# We try to open the video\n",
        "cap = cv2.VideoCapture(video_path)\n",
        "\n",
        "# We check if the video opened correctly\n",
        "if not cap.isOpened():\n",
        "  print(\"Error: No se pudo abrir el vídeo. Revisa la ruta del archivo.\")\n",
        "else:\n",
        "  print(\"¡Éxito! El vídeo se ha cargado correctamente.\")\n",
        "  # We read the first frame of the video\n",
        "  ret, frame = cap.read()\n",
        "  if ret:\n",
        "    print(\"Mostrando el primer fotograma del vídeo:\")\n",
        "    # We display the frame in Colab\n",
        "    cv2_imshow(frame)\n",
        "  else:\n",
        "    print(\"Error: No se pudo leer ningún fotograma del vídeo.\")\n",
        "  # We release the video object\n",
        "  cap.release()"
      ],
      "metadata": {
        "id": "VYFd7cpM1jlT"
      },
      "execution_count": null,
      "outputs": []
    }
  ]
}