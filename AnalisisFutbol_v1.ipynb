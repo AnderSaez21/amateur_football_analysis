{
  "nbformat": 4,
  "nbformat_minor": 0,
  "metadata": {
    "colab": {
      "provenance": [],
      "gpuType": "T4"
    },
    "kernelspec": {
      "name": "python3",
      "display_name": "Python 3"
    },
    "language_info": {
      "name": "python"
    },
    "accelerator": "GPU"
  },
  "cells": [
    {
      "cell_type": "code",
      "execution_count": null,
      "metadata": {
        "id": "kFGj6MoryPw2"
      },
      "outputs": [],
      "source": [
        "# Paso 1: Montar Google Drive para acceder a nuestros archivos\n",
        "from google.colab import drive\n",
        "drive.mount('/content/drive')"
      ]
    },
    {
      "cell_type": "code",
      "source": [
        "# Paso 2: Instalar las librerías que vamos a utilizar\n",
        "# OpenCV es para el procesamiento de imágenes y vídeo.\n",
        "# Ultralytics nos da acceso al modelo YOLO para detectar jugadores.\n",
        "!pip install opencv-python ultralytics"
      ],
      "metadata": {
        "id": "KtNIdpNw0dzv"
      },
      "execution_count": null,
      "outputs": []
    },
    {
      "cell_type": "code",
      "source": [
        "# Paso 3: Cargar y probar nuestro vídeo\n",
        "import cv2\n",
        "from google.colab.patches import cv2_imshow # Usamos esto en Colab en lugar de cv2.imshow\n",
        "\n",
        "# IMPORTANTE: Pega aquí la ruta a tu vídeo que copiaste en el paso anterior.\n",
        "# Asegúrate de que la ruta esté entre comillas.\n",
        "video_path = \"/content/drive/My Drive/Proyecto_Futbol_IA/mi_partido.mp4\"\n",
        "\n",
        "# Intentamos abrir el vídeo\n",
        "cap = cv2.VideoCapture(video_path)\n",
        "\n",
        "# Verificamos si el vídeo se abrió correctamente\n",
        "if not cap.isOpened():\n",
        "  print(\"Error: No se pudo abrir el vídeo. Revisa la ruta del archivo.\")\n",
        "else:\n",
        "  print(\"¡Éxito! El vídeo se ha cargado correctamente.\")\n",
        "  # Leemos el primer fotograma (frame) del vídeo\n",
        "  ret, frame = cap.read()\n",
        "  if ret:\n",
        "    print(\"Mostrando el primer fotograma del vídeo:\")\n",
        "    # Mostramos el fotograma en Colab\n",
        "    cv2_imshow(frame)\n",
        "  else:\n",
        "    print(\"Error: No se pudo leer ningún fotograma del vídeo.\")\n",
        "  # Liberamos el objeto de vídeo\n",
        "  cap.release()"
      ],
      "metadata": {
        "id": "VYFd7cpM1jlT"
      },
      "execution_count": null,
      "outputs": []
    }
  ]
}